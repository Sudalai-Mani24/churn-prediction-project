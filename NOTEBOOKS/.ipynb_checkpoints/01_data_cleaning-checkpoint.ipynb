{
 "cells": [
  {
   "cell_type": "code",
   "execution_count": 1,
   "metadata": {},
   "outputs": [
    {
     "name": "stdout",
     "output_type": "stream",
     "text": [
      "Gender imputation completed! {missing_before - missing_after} missing values were filled.\n"
     ]
    }
   ],
   "source": [
    "import pandas as pd\n",
    "\n",
    "# Load dataset\n",
    "df = pd.read_csv(\"ott_churn_dataset.csv\")\n",
    "\n",
    "# Count missing gender values before imputation\n",
    "missing_before = df[df['gender_filled'] == \"UNKNOWN\"].shape[0]\n",
    "\n",
    "# Apply rule-based imputation\n",
    "df.loc[(df['gender_filled'] == \"UNKNOWN\") & (df['no_of_days_subscribed'] > 365), 'gender_filled'] = \"Male\"\n",
    "df.loc[(df['gender_filled'] == \"UNKNOWN\") & (df['no_of_days_subscribed'] < 200), 'gender_filled'] = \"Female\"\n",
    "df.loc[(df['gender_filled'] == \"UNKNOWN\") & (df['weekly_mins_watched'] > 600), 'gender_filled'] = \"Male\"\n",
    "df.loc[(df['gender_filled'] == \"UNKNOWN\") & (df['weekly_mins_watched'] < 400), 'gender_filled'] = \"Female\"\n",
    "df.loc[(df['gender_filled'] == \"UNKNOWN\") & (df['churn_filled'] == \"Yes\"), 'gender_filled'] = \"Female\"\n",
    "df.loc[(df['gender_filled'] == \"UNKNOWN\") & (df['churn_filled'] == \"No\"), 'gender_filled'] = \"Male\"\n",
    "df.loc[(df['gender_filled'] == \"UNKNOWN\") & (df['mail_subscribed'] == \"Yes\"), 'gender_filled'] = \"Female\"\n",
    "\n",
    "# Fill remaining UNKNOWN values with majority gender\n",
    "mode_gender = df[df['gender_filled'] != \"UNKNOWN\"]['gender_filled'].mode()[0]\n",
    "df.loc[df['gender_filled'] == \"UNKNOWN\", 'gender_filled'] = mode_gender\n",
    "\n",
    "# Count missing gender values after imputation\n",
    "missing_after = df[df['gender_filled'] == \"UNKNOWN\"].shape[0]\n",
    "\n",
    "# Save cleaned dataset\n",
    "df.to_csv(\"ott_churn_cleaned_dataset.csv\", index=False)\n",
    "\n",
    "# Print completion message\n",
    "print(\"Gender imputation completed! {missing_before - missing_after} missing values were filled.\")"
   ]
  },
  {
   "cell_type": "code",
   "execution_count": 2,
   "metadata": {},
   "outputs": [
    {
     "name": "stdout",
     "output_type": "stream",
     "text": [
      "gender_filled\n",
      "Male      1053\n",
      "Female     947\n",
      "Name: count, dtype: int64\n",
      "year                      0\n",
      "customer_id               0\n",
      "gender_filled             0\n",
      "age                       0\n",
      "no_of_days_subscribed     0\n",
      "multi_screen              0\n",
      "mail_subscribed           0\n",
      "weekly_mins_watched       0\n",
      "minimum_daily_mins        0\n",
      "maximum_daily_mins        0\n",
      "weekly_max_night_mins     0\n",
      "videos_watched            0\n",
      "maximum days_filled       0\n",
      "customer_support_calls    0\n",
      "churn_filled              0\n",
      "dtype: int64\n"
     ]
    }
   ],
   "source": [
    "print(df['gender_filled'].value_counts())  # Check the distribution of gender values\n",
    "print(df.isnull().sum())  # Check for any other missing values"
   ]
  },
  {
   "cell_type": "code",
   "execution_count": 9,
   "metadata": {},
   "outputs": [
    {
     "name": "stdout",
     "output_type": "stream",
     "text": [
      "Columns renamed successfully. Dataset updated!\n"
     ]
    }
   ],
   "source": [
    "import pandas as pd\n",
    "\n",
    "# Load the cleaned dataset\n",
    "df = pd.read_csv(\"ott_churn_cleaned_dataset.csv\")  # Use the correct file path if needed\n",
    "\n",
    "# Rename columns\n",
    "df.rename(columns={'gender_filled': 'gender', 'churn_filled': 'churn' , 'maximum days_filled': 'maximum_days'}, inplace=True)\n",
    "\n",
    "# Save the updated dataset\n",
    "df.to_csv(\"ott_complete_cleaned_dataset.csv\", index=False)  # Saves the cleaned file\n",
    "df.to_excel(\"ott_complete_cleaned_dataset.xlsx\", index=False)  # Saves as Excel file \n",
    "\n",
    "print(\"Columns renamed successfully. Dataset updated!\")\n"
   ]
  },
  {
   "cell_type": "code",
   "execution_count": null,
   "metadata": {},
   "outputs": [],
   "source": []
  }
 ],
 "metadata": {
  "kernelspec": {
   "display_name": "Python [conda env:base] *",
   "language": "python",
   "name": "conda-base-py"
  },
  "language_info": {
   "codemirror_mode": {
    "name": "ipython",
    "version": 3
   },
   "file_extension": ".py",
   "mimetype": "text/x-python",
   "name": "python",
   "nbconvert_exporter": "python",
   "pygments_lexer": "ipython3",
   "version": "3.12.7"
  }
 },
 "nbformat": 4,
 "nbformat_minor": 4
}
